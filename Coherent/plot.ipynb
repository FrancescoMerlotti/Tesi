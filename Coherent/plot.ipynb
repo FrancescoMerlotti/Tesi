{
 "cells": [
  {
   "cell_type": "markdown",
   "metadata": {},
   "source": [
    "# Print plots"
   ]
  },
  {
   "cell_type": "code",
   "execution_count": 1,
   "metadata": {},
   "outputs": [
    {
     "ename": "FileNotFoundError",
     "evalue": "./output_coherent/graph/null/output_1.dat not found.",
     "output_type": "error",
     "traceback": [
      "\u001b[0;31m---------------------------------------------------------------------------\u001b[0m",
      "\u001b[0;31mFileNotFoundError\u001b[0m                         Traceback (most recent call last)",
      "\u001b[1;32m/home/teto/Tesi/Coherent/plot.ipynb Cella 2\u001b[0m in \u001b[0;36m<cell line: 12>\u001b[0;34m()\u001b[0m\n\u001b[1;32m     <a href='vscode-notebook-cell://wsl%2Bubuntu/home/teto/Tesi/Coherent/plot.ipynb#W1sdnNjb2RlLXJlbW90ZQ%3D%3D?line=15'>16</a>\u001b[0m r0 \u001b[39m=\u001b[39m \u001b[39m\"\u001b[39m\u001b[39m./output_coherent/graph/null/output_\u001b[39m\u001b[39m\"\u001b[39m\n\u001b[1;32m     <a href='vscode-notebook-cell://wsl%2Bubuntu/home/teto/Tesi/Coherent/plot.ipynb#W1sdnNjb2RlLXJlbW90ZQ%3D%3D?line=16'>17</a>\u001b[0m r1 \u001b[39m=\u001b[39m \u001b[39m\"\u001b[39m\u001b[39m./output_coherent/graph/random/output_\u001b[39m\u001b[39m\"\u001b[39m\n\u001b[0;32m---> <a href='vscode-notebook-cell://wsl%2Bubuntu/home/teto/Tesi/Coherent/plot.ipynb#W1sdnNjb2RlLXJlbW90ZQ%3D%3D?line=18'>19</a>\u001b[0m n0 \u001b[39m=\u001b[39m np\u001b[39m.\u001b[39;49mloadtxt(r0 \u001b[39m+\u001b[39;49m \u001b[39mstr\u001b[39;49m(N) \u001b[39m+\u001b[39;49m \u001b[39m\"\u001b[39;49m\u001b[39m.dat\u001b[39;49m\u001b[39m\"\u001b[39;49m, usecols\u001b[39m=\u001b[39;49m\u001b[39m0\u001b[39;49m)\n\u001b[1;32m     <a href='vscode-notebook-cell://wsl%2Bubuntu/home/teto/Tesi/Coherent/plot.ipynb#W1sdnNjb2RlLXJlbW90ZQ%3D%3D?line=19'>20</a>\u001b[0m h0 \u001b[39m=\u001b[39m np\u001b[39m.\u001b[39mloadtxt(r0 \u001b[39m+\u001b[39m \u001b[39mstr\u001b[39m(N) \u001b[39m+\u001b[39m \u001b[39m\"\u001b[39m\u001b[39m.dat\u001b[39m\u001b[39m\"\u001b[39m, usecols\u001b[39m=\u001b[39m\u001b[39m1\u001b[39m)\n\u001b[1;32m     <a href='vscode-notebook-cell://wsl%2Bubuntu/home/teto/Tesi/Coherent/plot.ipynb#W1sdnNjb2RlLXJlbW90ZQ%3D%3D?line=20'>21</a>\u001b[0m n1 \u001b[39m=\u001b[39m np\u001b[39m.\u001b[39mloadtxt(r1 \u001b[39m+\u001b[39m \u001b[39mstr\u001b[39m(N) \u001b[39m+\u001b[39m \u001b[39m\"\u001b[39m\u001b[39m.dat\u001b[39m\u001b[39m\"\u001b[39m, usecols\u001b[39m=\u001b[39m\u001b[39m0\u001b[39m)\n",
      "File \u001b[0;32m~/.local/lib/python3.8/site-packages/numpy/lib/npyio.py:1042\u001b[0m, in \u001b[0;36mloadtxt\u001b[0;34m(fname, dtype, comments, delimiter, converters, skiprows, usecols, unpack, ndmin, encoding, max_rows, like)\u001b[0m\n\u001b[1;32m   1040\u001b[0m     fname \u001b[39m=\u001b[39m os_fspath(fname)\n\u001b[1;32m   1041\u001b[0m \u001b[39mif\u001b[39;00m _is_string_like(fname):\n\u001b[0;32m-> 1042\u001b[0m     fh \u001b[39m=\u001b[39m np\u001b[39m.\u001b[39;49mlib\u001b[39m.\u001b[39;49m_datasource\u001b[39m.\u001b[39;49mopen(fname, \u001b[39m'\u001b[39;49m\u001b[39mrt\u001b[39;49m\u001b[39m'\u001b[39;49m, encoding\u001b[39m=\u001b[39;49mencoding)\n\u001b[1;32m   1043\u001b[0m     fencoding \u001b[39m=\u001b[39m \u001b[39mgetattr\u001b[39m(fh, \u001b[39m'\u001b[39m\u001b[39mencoding\u001b[39m\u001b[39m'\u001b[39m, \u001b[39m'\u001b[39m\u001b[39mlatin1\u001b[39m\u001b[39m'\u001b[39m)\n\u001b[1;32m   1044\u001b[0m     line_iter \u001b[39m=\u001b[39m \u001b[39miter\u001b[39m(fh)\n",
      "File \u001b[0;32m~/.local/lib/python3.8/site-packages/numpy/lib/_datasource.py:193\u001b[0m, in \u001b[0;36mopen\u001b[0;34m(path, mode, destpath, encoding, newline)\u001b[0m\n\u001b[1;32m    156\u001b[0m \u001b[39m\"\"\"\u001b[39;00m\n\u001b[1;32m    157\u001b[0m \u001b[39mOpen `path` with `mode` and return the file object.\u001b[39;00m\n\u001b[1;32m    158\u001b[0m \n\u001b[0;32m   (...)\u001b[0m\n\u001b[1;32m    189\u001b[0m \n\u001b[1;32m    190\u001b[0m \u001b[39m\"\"\"\u001b[39;00m\n\u001b[1;32m    192\u001b[0m ds \u001b[39m=\u001b[39m DataSource(destpath)\n\u001b[0;32m--> 193\u001b[0m \u001b[39mreturn\u001b[39;00m ds\u001b[39m.\u001b[39;49mopen(path, mode, encoding\u001b[39m=\u001b[39;49mencoding, newline\u001b[39m=\u001b[39;49mnewline)\n",
      "File \u001b[0;32m~/.local/lib/python3.8/site-packages/numpy/lib/_datasource.py:532\u001b[0m, in \u001b[0;36mDataSource.open\u001b[0;34m(self, path, mode, encoding, newline)\u001b[0m\n\u001b[1;32m    529\u001b[0m     \u001b[39mreturn\u001b[39;00m _file_openers[ext](found, mode\u001b[39m=\u001b[39mmode,\n\u001b[1;32m    530\u001b[0m                               encoding\u001b[39m=\u001b[39mencoding, newline\u001b[39m=\u001b[39mnewline)\n\u001b[1;32m    531\u001b[0m \u001b[39melse\u001b[39;00m:\n\u001b[0;32m--> 532\u001b[0m     \u001b[39mraise\u001b[39;00m \u001b[39mFileNotFoundError\u001b[39;00m(\u001b[39mf\u001b[39m\u001b[39m\"\u001b[39m\u001b[39m{\u001b[39;00mpath\u001b[39m}\u001b[39;00m\u001b[39m not found.\u001b[39m\u001b[39m\"\u001b[39m)\n",
      "\u001b[0;31mFileNotFoundError\u001b[0m: ./output_coherent/graph/null/output_1.dat not found."
     ]
    }
   ],
   "source": [
    "import numpy as np\n",
    "import matplotlib.pyplot as plt\n",
    "\n",
    "def RoundHalf(a):\n",
    "\tif(a-int(a) < 0.25):\n",
    "\t\treturn int(a)\n",
    "\tif(a-int(a) < 0.75):\n",
    "\t\treturn int(a)+0.5\n",
    "\telse:\n",
    "\t\treturn int(a)+1.0\n",
    "\n",
    "for i in range(12):\n",
    "\n",
    "\tN = i+1\n",
    "\n",
    "\tr0 = \"./output_coherent/graph/null/output_\"\n",
    "\tr1 = \"./output_coherent/graph/random/output_\"\n",
    "\n",
    "\tn0 = np.loadtxt(r0 + str(N) + \".dat\", usecols=0)\n",
    "\th0 = np.loadtxt(r0 + str(N) + \".dat\", usecols=1)\n",
    "\tn1 = np.loadtxt(r1 + str(N) + \".dat\", usecols=0)\n",
    "\th1 = np.loadtxt(r1 + str(N) + \".dat\", usecols=1)\n",
    "\n",
    "\tx  = np.linspace(1, N+1, 10**3)\n",
    "\tm  = np.array([RoundHalf(l)**2 for l in x])\n",
    "\n",
    "\tfig = plt.figure(figsize=[8, 6])\n",
    "\tplt.title(\"Quantum Fisher Information, N = \"+str(N))\n",
    "\tplt.xlabel(\"$N_{tot}$\", fontsize=14)\n",
    "\tplt.ylabel(\"$H$\", fontsize=14)\n",
    "\tplt.scatter(n1, h1, color=\"cornflowerblue\")\n",
    "\tplt.scatter(n0, h0, color=\"sandybrown\")\n",
    "\tplt.scatter(x, m, color=\"indianred\")\n",
    "\tplt.legend([\"Random phases\", \"Null phases\", \"H vacuum\"], loc=0)\n",
    "\tplt.grid()\n",
    "\tplt.savefig(\"./images_coherent/output_\"+str(N)+\".jpg\", dpi=160)"
   ]
  },
  {
   "cell_type": "markdown",
   "metadata": {},
   "source": [
    "# Analysis on a single case"
   ]
  },
  {
   "cell_type": "markdown",
   "metadata": {},
   "source": [
    "### State with vacuum and truncation components\n",
    "\n",
    "One wants to test whether the state $\\ket{\\psi} = \\psi_0 \\ket{0} + \\psi_N \\ket{N}$ is the best one even for the case with the coherent seed. In particular, it will be examinated the case with $N=2$, then, fixing all the components different from the vacuum and the truncation ones to zero, one gets the following expression for the quantum Fisher information\n",
    "\n",
    "$$\n",
    "H = 10 |\\psi_2|^2 - 4 |\\psi_2|^4 + 2 \\sqrt{2} |\\psi_0| |\\psi_2| \\cos(\\theta + \\phi_0 - \\phi_2) + 2\n",
    "$$\n",
    "\n",
    "one can notice that, since the term with the cosine is multiplied by positive factors, in order to be maximum, the cosine should be maximum, thus equal to 1, therefore\n",
    "\n",
    "$$\n",
    "H = 10 \\psi_2^2 - 4 \\psi_2^4 + 2 \\sqrt{2} \\psi_0 \\psi_2 + 2\n",
    "$$\n",
    "\n",
    "where $\\psi_0$ and $\\psi_2$ are real and non-negative, then, by differentiating both for $\\psi_0$ and $\\psi_2$, and fixing the constraint $\\psi_0^2 + \\psi_2^2 = 1$, one gets the following results"
   ]
  },
  {
   "cell_type": "code",
   "execution_count": 2,
   "metadata": {},
   "outputs": [],
   "source": [
    "from sympy import *\n",
    "\n",
    "b = Symbol('b', positive=True)\n",
    "\n",
    "a = (1. - b**2)**0.5\n",
    "e = Eq(10*a*b - 8*a*b**3 + 2**0.5*a**2 - 2**0.5*b**2, 0)\n",
    "\n",
    "\n",
    "result = solve(e)"
   ]
  },
  {
   "cell_type": "code",
   "execution_count": 3,
   "metadata": {},
   "outputs": [
    {
     "name": "stdout",
     "output_type": "stream",
     "text": [
      "psi_0 = 0.364316189383886\n",
      "psi_2 = 0.931275315979547\n",
      "N = 2.73454742830561\n",
      "H = 8.62370736596475\n"
     ]
    }
   ],
   "source": [
    "def H(a, b):\n",
    "\treturn 10*b**2 - 4*b**4 + 2**1.5*a*b + 2\n",
    "\n",
    "psi_2 = result[0]\n",
    "psi_0 = (1. - psi_2**2)**0.5\n",
    "\n",
    "print(\"psi_0 =\", psi_0)\n",
    "print(\"psi_2 =\", psi_2)\n",
    "print(\"N =\", 2*psi_2**2+1)\n",
    "print(\"H =\", H(psi_0, psi_2))"
   ]
  },
  {
   "cell_type": "markdown",
   "metadata": {},
   "source": [
    "### Study of the quantum Fisher information with respect to the total number of photons\n",
    "\n"
   ]
  },
  {
   "cell_type": "code",
   "execution_count": 52,
   "metadata": {},
   "outputs": [],
   "source": [
    "import numpy as np\n",
    "import matplotlib.pyplot as plt\n",
    "\n",
    "def RoundHalf(a):\n",
    "\tif(a-int(a) < 0.25):\n",
    "\t\treturn int(a)\n",
    "\tif(a-int(a) < 0.75):\n",
    "\t\treturn int(a)+0.5\n",
    "\telse:\n",
    "\t\treturn int(a)+1.0\n",
    "\n",
    "def Theta(f):\n",
    "\tif(f==0):\n",
    "\t\treturn str(0)\n",
    "\telif(f==1):\n",
    "\t\treturn \"$\\pi$\"\n",
    "\telse:\n",
    "\t\treturn str(f) + \"$\\pi$\"\n",
    "\n",
    "N = 2\n",
    "T = 0\n",
    "\n",
    "r0 = \"./output_coherent/graph/null\"\n",
    "r1 = \"./output_coherent/graph/random\"\n",
    "op = \"../Optimization/best\"\n",
    "\n",
    "sr = [\"/null\", \"/pi\"]\n",
    "\n",
    "n0 = np.loadtxt(r0+sr[T]+\"/output_\"+str(N)+\".dat\", usecols=0)\n",
    "h0 = np.loadtxt(r0+sr[T]+\"/output_\"+str(N)+\".dat\", usecols=1)\n",
    "n1 = np.loadtxt(r1+sr[T]+\"/output_\"+str(N)+\".dat\", usecols=0)\n",
    "h1 = np.loadtxt(r1+sr[T]+\"/output_\"+str(N)+\".dat\", usecols=1)\n",
    "\n",
    "n_op0 = np.loadtxt(op+sr[0]+\"/output_best_\"+str(N)+\".dat\", usecols=0, skiprows=20, max_rows=1)\n",
    "h_op0 = np.loadtxt(op+sr[0]+\"/output_best_\"+str(N)+\".dat\", usecols=1, skiprows=20, max_rows=1)\n",
    "n_op1 = np.loadtxt(op+sr[1]+\"/output_best_\"+str(N)+\".dat\", usecols=0, skiprows=20, max_rows=1)\n",
    "h_op1 = np.loadtxt(op+sr[1]+\"/output_best_\"+str(N)+\".dat\", usecols=1, skiprows=20, max_rows=1)\n",
    "\n",
    "x  = np.linspace(1, N+1, 10**3)\n",
    "m  = np.array([RoundHalf(l)**2 for l in x])\n",
    "\n",
    "size = 10\n",
    "\n",
    "fig, (ax1, ax2) = plt.subplots(1, 2, figsize=[22, 10])\n",
    "ax1.set_title(\"Quantum Fisher Information, N = \"+str(N)+\", θ = \"+str(Theta(T)), fontsize=16)\n",
    "ax1.set_xlabel(\"$N_{tot}$\", fontsize=14)\n",
    "ax1.set_ylabel(\"$H$\", fontsize=14)\n",
    "ax1.scatter(n1, h1, color=\"cornflowerblue\", s=size, label=\"Random phases\")\n",
    "ax1.scatter(n0, h0, color=\"sandybrown\", s=size, label=\"Null phases\")\n",
    "ax1.scatter(x, m, color=\"indianred\", s=size, label=\"H vacuum\")\n",
    "ax1.scatter(2*psi_2**2+1, H(psi_0, psi_2), s=size, color=\"mediumpurple\", label=\"2 components\")\n",
    "ax1.scatter(n_op1, h_op1, s=size, color=\"paleturquoise\", label=\"Optimal pi\")\n",
    "ax1.scatter(n_op0, h_op0, s=size, color=\"palegreen\", label=\"Optimal null\")\n",
    "ax1.legend(loc=\"best\")\n",
    "ax1.grid()\n",
    "\n",
    "size = 50\n",
    "\n",
    "ax2.set_title(\"Quantum Fisher Information, N = \"+str(N)+\", θ = \"+str(Theta(T))+\" (zoom in)\", fontsize=16)\n",
    "ax2.set_xlabel(\"$N_{tot}$\", fontsize=14)\n",
    "ax2.set_ylabel(\"$H$\", fontsize=14)\n",
    "ax2.scatter(n1, h1, color=\"cornflowerblue\", s=size, label=\"Random phases\")\n",
    "ax2.scatter(n0, h0, color=\"sandybrown\", s=size, label=\"Null phases\")\n",
    "ax2.scatter(x, m, color=\"indianred\", s=size, label=\"H vacuum\")\n",
    "ax2.scatter(2*psi_2**2+1, H(psi_0, psi_2), s=size, color=\"mediumpurple\", label=\"2 components\")\n",
    "ax2.scatter(n_op1, h_op1, s=size, color=\"paleturquoise\", label=\"Optimal pi\")\n",
    "ax2.scatter(n_op0, h_op0, s=size, color=\"palegreen\", label=\"Optimal null\")\n",
    "ax2.set_xlim(2.7, 2.75)\n",
    "ax2.set_ylim(8.62, 8.63)\n",
    "ax2.legend(loc=\"best\")\n",
    "ax2.grid()\n",
    "\n",
    "plt.savefig(\"./images_coherent/trunc\"+str(N)+\"/qfi_\"+str(N)+\"_\"+str(T)+\".jpg\", dpi=160)\n",
    "plt.close()"
   ]
  },
  {
   "cell_type": "code",
   "execution_count": 53,
   "metadata": {},
   "outputs": [],
   "source": [
    "from scipy.stats import norm\n",
    "\n",
    "fig, ((ax1, ax2), (ax3, ax4)) = plt.subplots(2, 2, figsize=[12, 8])\n",
    "\n",
    "fig.suptitle(\"$N_{tot}$ & $H$ distribution, N =\"+str(N)+\", θ = \"+str(Theta(T)), fontsize=18)\n",
    "\n",
    "ax1.set_title(\"$N_{tot}$, random phases\")\n",
    "ax1.hist(n1, bins=20, density=True, color=\"cornflowerblue\")\n",
    "ax1.grid()\n",
    "\n",
    "ax2.set_title(\"$H$, random phases\")\n",
    "ax2.hist(h1, bins=20, density=True, color=\"cornflowerblue\")\n",
    "ax2.grid()\n",
    "\n",
    "ax3.set_title(\"$N_{tot}$, null phases\")\n",
    "ax3.hist(n0, bins=20, density=True, color=\"sandybrown\")\n",
    "ax3.grid()\n",
    "\n",
    "ax4.set_title(\"$H$, null phases\")\n",
    "ax4.hist(h0, bins=20, density=True, color=\"sandybrown\")\n",
    "ax4.grid()\n",
    "\n",
    "plt.savefig(\"./images_coherent/trunc\"+str(N)+\"/distribution_\"+str(N)+\"_\"+str(T)+\".jpg\", dpi=160)\n",
    "plt.close()"
   ]
  },
  {
   "cell_type": "code",
   "execution_count": 54,
   "metadata": {},
   "outputs": [],
   "source": [
    "r0 = \"./output_coherent/phases/null\"\n",
    "r1 = \"./output_coherent/phases/random\"\n",
    "\n",
    "dp1_0 = np.loadtxt(r0+sr[T]+\"/output_phases_\"+str(N)+\".dat\", usecols=0)\n",
    "dp2_0 = np.loadtxt(r0+sr[T]+\"/output_phases_\"+str(N)+\".dat\", usecols=1)\n",
    "qfi_0 = np.loadtxt(r0+sr[T]+\"/output_phases_\"+str(N)+\".dat\", usecols=2)\n",
    "\n",
    "dp1_1 = np.loadtxt(r1+sr[T]+\"/output_phases_\"+str(N)+\".dat\", usecols=0)\n",
    "dp2_1 = np.loadtxt(r1+sr[T]+\"/output_phases_\"+str(N)+\".dat\", usecols=1)\n",
    "qfi_1 = np.loadtxt(r1+sr[T]+\"/output_phases_\"+str(N)+\".dat\", usecols=2)"
   ]
  },
  {
   "cell_type": "code",
   "execution_count": 55,
   "metadata": {},
   "outputs": [
    {
     "name": "stdout",
     "output_type": "stream",
     "text": [
      "Max QFI (null phases) = 8.62507286\n",
      "Max QFI (rand phases) = 8.618225722\n"
     ]
    }
   ],
   "source": [
    "print(\"Max QFI (null phases) =\", np.max(qfi_0))\n",
    "print(\"Max QFI (rand phases) =\", np.max(qfi_1))\n",
    "\n",
    "fig = plt.figure(figsize=[10, 20])\n",
    "\n",
    "ax1 = fig.add_subplot(2, 1, 1, projection=\"3d\")\n",
    "\n",
    "ax1.scatter(dp1_0, dp2_0, qfi_0, s=0.1, marker=\",\", color=\"cornflowerblue\")\n",
    "ax1.view_init(30, 45)\n",
    "ax1.set_title(\"Quantum Fisher information with respect to phases, N =\"+str(N)+\", θ = \"+str(Theta(T)), fontsize=20)\n",
    "ax1.set_xlabel(\"$\\Delta \\phi_0$\", fontsize=14)\n",
    "ax1.set_ylabel(\"$\\Delta \\phi_1$\", fontsize=14)\n",
    "ax1.set_zlabel(\"QFI\", fontsize=14)\n",
    "\n",
    "ax2 = fig.add_subplot(2, 1, 2, projection=\"3d\")\n",
    "\n",
    "ax2.scatter(dp1_1, dp2_1, qfi_1, s=0.1, marker=\",\", color=\"sandybrown\")\n",
    "ax2.view_init(30, 45)\n",
    "ax2.set_title(\"Quantum Fisher information with respect to phases, N =\"+str(N)+\", θ = \"+str(Theta(T)), fontsize=20)\n",
    "ax2.set_xlabel(\"$\\Delta \\phi_0$\", fontsize=14)\n",
    "ax2.set_ylabel(\"$\\Delta \\phi_1$\", fontsize=14)\n",
    "ax2.set_zlabel(\"QFI\", fontsize=14)\n",
    "\n",
    "plt.savefig(\"./images_coherent/trunc\"+str(N)+\"/phases_\"+str(N)+\"_\"+str(T)+\".jpg\")\n",
    "plt.close()"
   ]
  },
  {
   "cell_type": "code",
   "execution_count": 56,
   "metadata": {},
   "outputs": [],
   "source": [
    "rep = \"../Optimization/fidelity\"\n",
    "\n",
    "srp = [\"/null\",\"/pi\"]\n",
    "\n",
    "qfi = np.loadtxt(rep+srp[T]+\"/output_fidelity_\"+str(N)+\".dat\", usecols=0)\n",
    "fid = np.loadtxt(rep+srp[T]+\"/output_fidelity_\"+str(N)+\".dat\", usecols=1)\n",
    "\n",
    "\n",
    "fig, ax = plt.subplots(1, 1, figsize=[8, 7])\n",
    "ax.scatter(qfi, fid, color=\"cornflowerblue\", s=5, label=\"Fidelity\")\n",
    "ax.set_title(\"Fidelity 99 percentile, N = \"+str(N)+\", θ = \"+str(Theta(T)))\n",
    "ax.set_xlabel(\"Quantum Fisher information\")\n",
    "ax.set_ylabel(\"Fidelity\")\n",
    "ax.legend(loc=\"best\", fontsize=14)\n",
    "ax.grid()\n",
    "\n",
    "plt.savefig(\"./images_coherent/trunc\"+str(N)+\"/fidelity_\"+str(N)+\"_\"+str(T)+\".jpg\")\n",
    "plt.close()"
   ]
  }
 ],
 "metadata": {
  "kernelspec": {
   "display_name": "Python 3.8.10 64-bit",
   "language": "python",
   "name": "python3"
  },
  "language_info": {
   "codemirror_mode": {
    "name": "ipython",
    "version": 3
   },
   "file_extension": ".py",
   "mimetype": "text/x-python",
   "name": "python",
   "nbconvert_exporter": "python",
   "pygments_lexer": "ipython3",
   "version": "3.8.10"
  },
  "orig_nbformat": 4,
  "vscode": {
   "interpreter": {
    "hash": "916dbcbb3f70747c44a77c7bcd40155683ae19c65e1c03b4aa3499c5328201f1"
   }
  }
 },
 "nbformat": 4,
 "nbformat_minor": 2
}
