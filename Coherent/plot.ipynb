{
 "cells": [
  {
   "cell_type": "markdown",
   "metadata": {},
   "source": [
    "# Print plots"
   ]
  },
  {
   "cell_type": "code",
   "execution_count": null,
   "metadata": {},
   "outputs": [],
   "source": [
    "import numpy as np\n",
    "import matplotlib.pyplot as plt\n",
    "\n",
    "def RoundHalf(a):\n",
    "\tif(a-int(a) < 0.25):\n",
    "\t\treturn int(a)\n",
    "\tif(a-int(a) < 0.75):\n",
    "\t\treturn int(a)+0.5\n",
    "\telse:\n",
    "\t\treturn int(a)+1.0\n",
    "\n",
    "for i in range(12):\n",
    "\n",
    "\tN = i+1\n",
    "\n",
    "\tr0 = \"./output_coherent/graph/null/output_\"\n",
    "\tr1 = \"./output_coherent/graph/random/output_\"\n",
    "\n",
    "\tn0 = np.loadtxt(r0 + str(N) + \".dat\", usecols=0)\n",
    "\th0 = np.loadtxt(r0 + str(N) + \".dat\", usecols=1)\n",
    "\tn1 = np.loadtxt(r1 + str(N) + \".dat\", usecols=0)\n",
    "\th1 = np.loadtxt(r1 + str(N) + \".dat\", usecols=1)\n",
    "\n",
    "\tx  = np.linspace(1, N+1, 10**3)\n",
    "\tm  = np.array([RoundHalf(l)**2 for l in x])\n",
    "\n",
    "\tfig = plt.figure(figsize=[8, 6])\n",
    "\tplt.title(\"Quantum Fisher Information, N = \"+str(N))\n",
    "\tplt.xlabel(\"$N_{tot}$\", fontsize=14)\n",
    "\tplt.ylabel(\"$H$\", fontsize=14)\n",
    "\tplt.scatter(n1, h1, color=\"cornflowerblue\")\n",
    "\tplt.scatter(n0, h0, color=\"sandybrown\")\n",
    "\tplt.scatter(x, m, color=\"indianred\")\n",
    "\tplt.legend([\"Random phases\", \"Null phases\", \"H vacuum\"], loc=0)\n",
    "\tplt.grid()\n",
    "\tplt.savefig(\"./images_coherent/output_\"+str(N)+\".jpg\", dpi=160)"
   ]
  },
  {
   "cell_type": "markdown",
   "metadata": {},
   "source": [
    "# Analysis on a single case"
   ]
  },
  {
   "cell_type": "markdown",
   "metadata": {},
   "source": [
    "### State with vacuum and truncation components\n",
    "\n",
    "One wants to test whether the state $\\ket{\\psi} = \\psi_0 \\ket{0} + \\psi_N \\ket{N}$ is the best one even for the case with the coherent seed. In particular, it will be examinated the case with $N=2$, then, fixing all the components different from the vacuum and the truncation ones to zero, one gets the following expression for the quantum Fisher information\n",
    "\n",
    "$$\n",
    "H = 10 |\\psi_2|^2 - 4 |\\psi_2|^4 + 2 \\sqrt{2} |\\psi_0| |\\psi_2| \\cos(\\theta + \\phi_0 - \\phi_2) + 2\n",
    "$$\n",
    "\n",
    "one can notice that, since the term with the cosine is multiplied by positive factors, in order to be maximum, the cosine should be maximum, thus equal to 1, therefore\n",
    "\n",
    "$$\n",
    "H = 10 \\psi_2^2 - 4 \\psi_2^4 + 2 \\sqrt{2} \\psi_0 \\psi_2 + 2\n",
    "$$\n",
    "\n",
    "where $\\psi_0$ and $\\psi_2$ are real and non-negative, then, by differentiating both for $\\psi_0$ and $\\psi_2$, and fixing the constraint $\\psi_0^2 + \\psi_2^2 = 1$, one gets the following results"
   ]
  },
  {
   "cell_type": "code",
   "execution_count": 1,
   "metadata": {},
   "outputs": [],
   "source": [
    "from sympy import *\n",
    "\n",
    "b = Symbol('b', positive=True)\n",
    "\n",
    "a = (1. - b**2)**0.5\n",
    "e = Eq(10*a*b - 8*a*b**3 + 2**0.5*a**2 - 2**0.5*b**2, 0)\n",
    "\n",
    "\n",
    "result = solve(e)"
   ]
  },
  {
   "cell_type": "code",
   "execution_count": 2,
   "metadata": {},
   "outputs": [
    {
     "name": "stdout",
     "output_type": "stream",
     "text": [
      "psi_0 = 0.364316189383886\n",
      "psi_2 = 0.931275315979547\n",
      "N = 2.73454742830561\n",
      "H = 8.62370736596475\n"
     ]
    }
   ],
   "source": [
    "def H(a, b):\n",
    "\treturn 10*b**2 - 4*b**4 + 2**1.5*a*b + 2\n",
    "\n",
    "psi_2 = result[0]\n",
    "psi_0 = (1. - psi_2**2)**0.5\n",
    "\n",
    "print(\"psi_0 =\", psi_0)\n",
    "print(\"psi_2 =\", psi_2)\n",
    "print(\"N =\", 2*psi_2**2+1)\n",
    "print(\"H =\", H(psi_0, psi_2))"
   ]
  },
  {
   "cell_type": "markdown",
   "metadata": {},
   "source": [
    "### Study of the quantum Fisher information with respect to the total number of photons\n",
    "\n"
   ]
  },
  {
   "cell_type": "code",
   "execution_count": 41,
   "metadata": {},
   "outputs": [],
   "source": [
    "import numpy as np\n",
    "import matplotlib.pyplot as plt\n",
    "\n",
    "def RoundHalf(a):\n",
    "\tif(a-int(a) < 0.25):\n",
    "\t\treturn int(a)\n",
    "\tif(a-int(a) < 0.75):\n",
    "\t\treturn int(a)+0.5\n",
    "\telse:\n",
    "\t\treturn int(a)+1.0\n",
    "\n",
    "def Theta(f):\n",
    "\tif(f==0):\n",
    "\t\treturn str(0)\n",
    "\telif(f==1):\n",
    "\t\treturn \"$\\pi$\"\n",
    "\telse:\n",
    "\t\treturn str(f) + \"$\\pi$\"\n",
    "\n",
    "N = 2\n",
    "T = 1\n",
    "\n",
    "r0 = \"./output_coherent/graph/null\"\n",
    "r1 = \"./output_coherent/graph/random\"\n",
    "op = \"../Optimization/best\"\n",
    "\n",
    "sr = [\"/null\", \"/pi\"]\n",
    "\n",
    "n0 = np.loadtxt(r0+sr[T]+\"/output_\"+str(N)+\".dat\", usecols=0)\n",
    "h0 = np.loadtxt(r0+sr[T]+\"/output_\"+str(N)+\".dat\", usecols=1)\n",
    "n1 = np.loadtxt(r1+sr[T]+\"/output_\"+str(N)+\".dat\", usecols=0)\n",
    "h1 = np.loadtxt(r1+sr[T]+\"/output_\"+str(N)+\".dat\", usecols=1)\n",
    "\n",
    "n_op = np.loadtxt(op+\"/output_best_\"+str(N)+\".dat\", usecols=0, skiprows=20, max_rows=1)\n",
    "h_op = np.loadtxt(op+\"/output_best_\"+str(N)+\".dat\", usecols=1, skiprows=20, max_rows=1)\n",
    "\n",
    "x  = np.linspace(1, N+1, 10**3)\n",
    "m  = np.array([RoundHalf(l)**2 for l in x])\n",
    "\n",
    "size = 10\n",
    "\n",
    "fig, (ax1, ax2) = plt.subplots(1, 2, figsize=[25, 10])\n",
    "ax1.set_title(\"Quantum Fisher Information, N = \"+str(N)+\", θ = \"+str(Theta(T)), fontsize=16)\n",
    "ax1.set_xlabel(\"$N_{tot}$\", fontsize=14)\n",
    "ax1.set_ylabel(\"$H$\", fontsize=14)\n",
    "ax1.scatter(n1, h1, color=\"cornflowerblue\", s=size, label=\"Random phases\")\n",
    "ax1.scatter(n0, h0, color=\"sandybrown\", s=size, label=\"Null phases\")\n",
    "ax1.scatter(x, m, color=\"indianred\", s=size, label=\"H vacuum\")\n",
    "ax1.scatter(2*psi_2**2+1, H(psi_0, psi_2), s=size, color=\"mediumpurple\", label=\"2 components\")\n",
    "ax1.scatter(n_op, h_op, s=size, color=\"paleturquoise\", label=\"Optimal\")\n",
    "ax1.legend(loc=\"best\")\n",
    "ax1.grid()\n",
    "\n",
    "size = 50\n",
    "\n",
    "ax2.set_title(\"Quantum Fisher Information, N = \"+str(N)+\", θ = \"+str(Theta(T))+\" (zoom in)\", fontsize=16)\n",
    "ax2.set_xlabel(\"$N_{tot}$\", fontsize=14)\n",
    "ax2.set_ylabel(\"$H$\", fontsize=14)\n",
    "ax2.scatter(n1, h1, color=\"cornflowerblue\", s=size, label=\"Random phases\")\n",
    "ax2.scatter(n0, h0, color=\"sandybrown\", s=size, label=\"Null phases\")\n",
    "ax2.scatter(x, m, color=\"indianred\", s=size, label=\"H vacuum\")\n",
    "ax2.scatter(2*psi_2**2+1, H(psi_0, psi_2), s=size, color=\"mediumpurple\", label=\"2 components\")\n",
    "ax2.scatter(n_op, h_op, s=size, color=\"paleturquoise\", label=\"Optimal\")\n",
    "ax2.set_xlim(2.7, 2.75)\n",
    "ax2.set_ylim(8.62, 8.63)\n",
    "ax2.legend(loc=\"best\")\n",
    "ax2.grid()\n",
    "\n",
    "plt.savefig(\"./images_coherent/qfi_\"+str(N)+\"_\"+str(T)+\".jpg\", dpi=160)\n",
    "plt.close()"
   ]
  },
  {
   "cell_type": "code",
   "execution_count": 37,
   "metadata": {},
   "outputs": [],
   "source": [
    "from scipy.stats import norm\n",
    "\n",
    "fig, ((ax1, ax2), (ax3, ax4)) = plt.subplots(2, 2, figsize=[12, 8])\n",
    "\n",
    "fig.suptitle(\"$N_{tot}$ & $H$ distribution, N =\"+str(N)+\", θ = \"+str(Theta(T)), fontsize=18)\n",
    "\n",
    "ax1.set_title(\"$N_{tot}$, random phases\")\n",
    "ax1.hist(n1, bins=20, density=True, color=\"cornflowerblue\")\n",
    "ax1.grid()\n",
    "\n",
    "ax2.set_title(\"$H$, random phases\")\n",
    "ax2.hist(h1, bins=20, density=True, color=\"cornflowerblue\")\n",
    "ax2.grid()\n",
    "\n",
    "ax3.set_title(\"$N_{tot}$, null phases\")\n",
    "ax3.hist(n0, bins=20, density=True, color=\"sandybrown\")\n",
    "ax3.grid()\n",
    "\n",
    "ax4.set_title(\"$H$, null phases\")\n",
    "ax4.hist(h0, bins=20, density=True, color=\"sandybrown\")\n",
    "ax4.grid()\n",
    "\n",
    "plt.savefig(\"./images_coherent/distribution_\"+str(N)+\"_\"+str(T)+\".jpg\", dpi=160)\n",
    "plt.close()"
   ]
  },
  {
   "cell_type": "code",
   "execution_count": 38,
   "metadata": {},
   "outputs": [],
   "source": [
    "r0 = \"./output_coherent/phases/null\"\n",
    "r1 = \"./output_coherent/phases/random\"\n",
    "\n",
    "dp1_0 = np.loadtxt(r0+sr[T]+\"/output_phases_\"+str(N)+\".dat\", usecols=0)\n",
    "dp2_0 = np.loadtxt(r0+sr[T]+\"/output_phases_\"+str(N)+\".dat\", usecols=1)\n",
    "qfi_0 = np.loadtxt(r0+sr[T]+\"/output_phases_\"+str(N)+\".dat\", usecols=2)\n",
    "\n",
    "dp1_1 = np.loadtxt(r1+sr[T]+\"/output_phases_\"+str(N)+\".dat\", usecols=0)\n",
    "dp2_1 = np.loadtxt(r1+sr[T]+\"/output_phases_\"+str(N)+\".dat\", usecols=1)\n",
    "qfi_1 = np.loadtxt(r1+sr[T]+\"/output_phases_\"+str(N)+\".dat\", usecols=2)"
   ]
  },
  {
   "cell_type": "code",
   "execution_count": 39,
   "metadata": {},
   "outputs": [
    {
     "name": "stdout",
     "output_type": "stream",
     "text": [
      "Max QFI (null phases) = 8.62507286\n",
      "Max QFI (rand phases) = 8.618225722\n"
     ]
    }
   ],
   "source": [
    "print(\"Max QFI (null phases) =\", np.max(qfi_0))\n",
    "print(\"Max QFI (rand phases) =\", np.max(qfi_1))\n",
    "\n",
    "fig = plt.figure(figsize=[10, 20])\n",
    "\n",
    "ax1 = fig.add_subplot(2, 1, 1, projection=\"3d\")\n",
    "\n",
    "ax1.scatter(dp1_0, dp2_0, qfi_0, s=0.1, marker=\",\", color=\"cornflowerblue\")\n",
    "ax1.view_init(30, 45)\n",
    "ax1.set_title(\"Quantum Fisher information with respect to phases\", fontsize=20)\n",
    "ax1.set_xlabel(\"$\\Delta \\phi_0$\", fontsize=14)\n",
    "ax1.set_ylabel(\"$\\Delta \\phi_1$\", fontsize=14)\n",
    "ax1.set_zlabel(\"QFI\", fontsize=14)\n",
    "\n",
    "ax2 = fig.add_subplot(2, 1, 2, projection=\"3d\")\n",
    "\n",
    "ax2.scatter(dp1_1, dp2_1, qfi_1, s=0.1, marker=\",\", color=\"sandybrown\")\n",
    "ax2.view_init(30, 45)\n",
    "ax2.set_title(\"Quantum Fisher information with respect to phases\", fontsize=20)\n",
    "ax2.set_xlabel(\"$\\Delta \\phi_0$\", fontsize=14)\n",
    "ax2.set_ylabel(\"$\\Delta \\phi_1$\", fontsize=14)\n",
    "ax2.set_zlabel(\"QFI\", fontsize=14)\n",
    "\n",
    "plt.savefig(\"./images_coherent/phases_2_\"+str(T)+\".jpg\")\n",
    "plt.close()"
   ]
  }
 ],
 "metadata": {
  "kernelspec": {
   "display_name": "Python 3.8.10 64-bit",
   "language": "python",
   "name": "python3"
  },
  "language_info": {
   "codemirror_mode": {
    "name": "ipython",
    "version": 3
   },
   "file_extension": ".py",
   "mimetype": "text/x-python",
   "name": "python",
   "nbconvert_exporter": "python",
   "pygments_lexer": "ipython3",
   "version": "3.8.10"
  },
  "orig_nbformat": 4,
  "vscode": {
   "interpreter": {
    "hash": "916dbcbb3f70747c44a77c7bcd40155683ae19c65e1c03b4aa3499c5328201f1"
   }
  }
 },
 "nbformat": 4,
 "nbformat_minor": 2
}
