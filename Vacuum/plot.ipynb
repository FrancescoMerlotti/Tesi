{
 "cells": [
  {
   "cell_type": "code",
   "execution_count": 53,
   "metadata": {},
   "outputs": [],
   "source": [
    "import numpy as np\n",
    "import matplotlib.pyplot as plt\n",
    " \n",
    "\n",
    "N = 4\n",
    "M = (N + 1) / 2\n",
    "\n",
    "r = \"./graph_vacuum\"\n",
    "\n",
    "n = np.loadtxt(r+\"/output_vacuum_\"+str(N)+\".dat\", usecols=0)\n",
    "h = np.loadtxt(r+\"/output_vacuum_\"+str(N)+\".dat\", usecols=1)\n",
    "\n",
    "fig = plt.figure(figsize=[11, 10])\n",
    "plt.title(\"Quantum Fisher Information, N = \"+str(N), fontsize=16)\n",
    "plt.xlabel(\"$N_{tot}$\", fontsize=14)\n",
    "plt.ylabel(\"$H$\", fontsize=14)\n",
    "plt.scatter(n, h, color=\"cornflowerblue\", s=5, label=\"distribution\")\n",
    "plt.scatter(M, M**2, color=\"indianred\", label=\"best\")\n",
    "plt.legend(loc=\"upper left\")\n",
    "plt.grid()\n",
    "plt.savefig(\"./images_vacuum/vacuum_distribution_\"+str(N)+\".jpg\", dpi=160)\n",
    "plt.close()"
   ]
  },
  {
   "cell_type": "code",
   "execution_count": 54,
   "metadata": {},
   "outputs": [],
   "source": [
    "r = \"./fidelity_vacuum\"\n",
    "\n",
    "h = np.loadtxt(r+\"/output_fidelity_\"+str(N)+\".dat\", usecols=0)\n",
    "f = np.loadtxt(r+\"/output_fidelity_\"+str(N)+\".dat\", usecols=1)\n",
    "\n",
    "fig = plt.figure(figsize=[11, 10])\n",
    "plt.title(\"Fidelity, N = \"+str(N), fontsize=16)\n",
    "plt.xlabel(\"$H$\", fontsize=14)\n",
    "plt.ylabel(\"$F$\", fontsize=14)\n",
    "plt.scatter(h, f, color=\"sandybrown\", s=5, label=\"fidelity\")\n",
    "plt.legend(loc=\"upper left\")\n",
    "plt.grid()\n",
    "plt.savefig(\"./images_vacuum/vacuum_fidelity_\"+str(N)+\".jpg\", dpi=160)\n",
    "plt.close()"
   ]
  }
 ],
 "metadata": {
  "kernelspec": {
   "display_name": "Python 3.8.10 64-bit",
   "language": "python",
   "name": "python3"
  },
  "language_info": {
   "codemirror_mode": {
    "name": "ipython",
    "version": 3
   },
   "file_extension": ".py",
   "mimetype": "text/x-python",
   "name": "python",
   "nbconvert_exporter": "python",
   "pygments_lexer": "ipython3",
   "version": "3.8.10"
  },
  "orig_nbformat": 4,
  "vscode": {
   "interpreter": {
    "hash": "916dbcbb3f70747c44a77c7bcd40155683ae19c65e1c03b4aa3499c5328201f1"
   }
  }
 },
 "nbformat": 4,
 "nbformat_minor": 2
}
